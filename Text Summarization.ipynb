{
 "cells": [
  {
   "cell_type": "code",
   "execution_count": 1,
   "id": "cff33283",
   "metadata": {},
   "outputs": [],
   "source": [
    "## input text article\n",
    "article_text=\"Machine learning (ML) and artificial intelligence (AI) are becoming dominant problem-solving techniques in many areas of research and industry, not least because of the recent successes of deep learning (DL). However, the equation AI=ML=DL, as recently suggested in the news, blogs, and media, falls too short. These fields share the same fundamental hypotheses: computation is a useful way to model intelligent behavior in machines. What kind of computation and how to program it? This is not the right question. Computation neither rules out search, logical, and probabilistic techniques, nor (deep) (un)supervised and reinforcement learning methods, among others, as computational models do include all of them. They complement each other, and the next breakthrough lies not only in pushing each of them but also in combining them.Big Data is no fad. The world is growing at an exponential rate and so is the size of the data collected across the globe. Data is becoming more meaningful and contextually relevant, breaking new grounds for machine learning (ML), in particular for deep learning (DL) and artificial intelligence (AI), moving them out of research labs into production (Jordan and Mitchell, 2015). The problem has shifted from collecting massive amounts of data to understanding it—turning it into knowledge, conclusions, and actions. Multiple research disciplines, from cognitive sciences to biology, finance, physics, and social sciences, as well as many companies believe that data-driven and “intelligent” solutions are necessary to solve many of their key problems. High-throughput genomic and proteomic experiments can be used to enable personalized medicine. Large data sets of search queries can be used to improve information retrieval. Historical climate data can be used to understand global warming and to better predict weather. Large amounts of sensor readings and hyperspectral images of plants can be used to identify drought conditions and to gain insights into when and how stress impacts plant growth and development and in turn how to counterattack the problem of world hunger. Game data can turn pixels into actions within video games, while observational data can help enable robots to understand complex and unstructured environments and to learn manipulation skills.However, is AI, ML, and DL really synonymous, as recently suggested in the news, blogs, and media? For example, when AlphaGo (Silver et al., 2016) defeated South Korean Master Lee Se-dol in the board game Go in 2016, the terms AI, ML, and DL were used by the media to describe how AlphaGo won. In addition to this, even Gartner's list (Panetta, 2017) of top 10 Strategic Trends for 2018 places (narrow) AI at the very top, specifying it as “consisting of highly scoped machine-learning solutions that target a specific task.”\""
   ]
  },
  {
   "cell_type": "markdown",
   "id": "5a87f8d7",
   "metadata": {},
   "source": [
    "## Import Modules"
   ]
  },
  {
   "cell_type": "code",
   "execution_count": 2,
   "id": "af9207e2",
   "metadata": {},
   "outputs": [],
   "source": [
    "import re\n",
    "import nltk"
   ]
  },
  {
   "cell_type": "markdown",
   "id": "bdde8923",
   "metadata": {},
   "source": [
    "## Data Preprocessing"
   ]
  },
  {
   "cell_type": "code",
   "execution_count": 3,
   "id": "d316ecb9",
   "metadata": {},
   "outputs": [
    {
     "data": {
      "text/plain": [
       "\"machine learning (ml) and artificial intelligence (ai) are becoming dominant problem-solving techniques in many areas of research and industry, not least because of the recent successes of deep learning (dl). however, the equation ai=ml=dl, as recently suggested in the news, blogs, and media, falls too short. these fields share the same fundamental hypotheses: computation is a useful way to model intelligent behavior in machines. what kind of computation and how to program it? this is not the right question. computation neither rules out search, logical, and probabilistic techniques, nor (deep) (un)supervised and reinforcement learning methods, among others, as computational models do include all of them. they complement each other, and the next breakthrough lies not only in pushing each of them but also in combining them.big data is no fad. the world is growing at an exponential rate and so is the size of the data collected across the globe. data is becoming more meaningful and contextually relevant, breaking new grounds for machine learning (ml), in particular for deep learning (dl) and artificial intelligence (ai), moving them out of research labs into production (jordan and mitchell, 2015). the problem has shifted from collecting massive amounts of data to understanding it—turning it into knowledge, conclusions, and actions. multiple research disciplines, from cognitive sciences to biology, finance, physics, and social sciences, as well as many companies believe that data-driven and “intelligent” solutions are necessary to solve many of their key problems. high-throughput genomic and proteomic experiments can be used to enable personalized medicine. large data sets of search queries can be used to improve information retrieval. historical climate data can be used to understand global warming and to better predict weather. large amounts of sensor readings and hyperspectral images of plants can be used to identify drought conditions and to gain insights into when and how stress impacts plant growth and development and in turn how to counterattack the problem of world hunger. game data can turn pixels into actions within video games, while observational data can help enable robots to understand complex and unstructured environments and to learn manipulation skills.however, is ai, ml, and dl really synonymous, as recently suggested in the news, blogs, and media? for example, when alphago (silver et al., 2016) defeated south korean master lee se-dol in the board game go in 2016, the terms ai, ml, and dl were used by the media to describe how alphago won. in addition to this, even gartner's list (panetta, 2017) of top 10 strategic trends for 2018 places (narrow) ai at the very top, specifying it as “consisting of highly scoped machine-learning solutions that target a specific task.”\""
      ]
     },
     "execution_count": 3,
     "metadata": {},
     "output_type": "execute_result"
    }
   ],
   "source": [
    "article_text = article_text.lower()\n",
    "article_text"
   ]
  },
  {
   "cell_type": "code",
   "execution_count": 4,
   "id": "cc4b1e0c",
   "metadata": {},
   "outputs": [
    {
     "data": {
      "text/plain": [
       "'machine learning ml and artificial intelligence ai are becoming dominant problem solving techniques in many areas of research and industry not least because of the recent successes of deep learning dl however the equation ai ml dl as recently suggested in the news blogs and media falls too short these fields share the same fundamental hypotheses computation is a useful way to model intelligent behavior in machines what kind of computation and how to program it this is not the right question computation neither rules out search logical and probabilistic techniques nor deep un supervised and reinforcement learning methods among others as computational models do include all of them they complement each other and the next breakthrough lies not only in pushing each of them but also in combining them big data is no fad the world is growing at an exponential rate and so is the size of the data collected across the globe data is becoming more meaningful and contextually relevant breaking new grounds for machine learning ml in particular for deep learning dl and artificial intelligence ai moving them out of research labs into production jordan and mitchell the problem has shifted from collecting massive amounts of data to understanding it turning it into knowledge conclusions and actions multiple research disciplines from cognitive sciences to biology finance physics and social sciences as well as many companies believe that data driven and intelligent solutions are necessary to solve many of their key problems high throughput genomic and proteomic experiments can be used to enable personalized medicine large data sets of search queries can be used to improve information retrieval historical climate data can be used to understand global warming and to better predict weather large amounts of sensor readings and hyperspectral images of plants can be used to identify drought conditions and to gain insights into when and how stress impacts plant growth and development and in turn how to counterattack the problem of world hunger game data can turn pixels into actions within video games while observational data can help enable robots to understand complex and unstructured environments and to learn manipulation skills however is ai ml and dl really synonymous as recently suggested in the news blogs and media for example when alphago silver et al defeated south korean master lee se dol in the board game go in the terms ai ml and dl were used by the media to describe how alphago won in addition to this even gartner s list panetta of top strategic trends for places narrow ai at the very top specifying it as consisting of highly scoped machine learning solutions that target a specific task '"
      ]
     },
     "execution_count": 4,
     "metadata": {},
     "output_type": "execute_result"
    }
   ],
   "source": [
    "# remove spaces, punctuations and numbers\n",
    "clean_text = re.sub('[^a-zA-Z]', ' ', article_text)\n",
    "clean_text = re.sub('\\s+', ' ', clean_text)\n",
    "clean_text"
   ]
  },
  {
   "cell_type": "code",
   "execution_count": 5,
   "id": "a83dac55",
   "metadata": {},
   "outputs": [
    {
     "data": {
      "text/plain": [
       "['machine learning (ml) and artificial intelligence (ai) are becoming dominant problem-solving techniques in many areas of research and industry, not least because of the recent successes of deep learning (dl).',\n",
       " 'however, the equation ai=ml=dl, as recently suggested in the news, blogs, and media, falls too short.',\n",
       " 'these fields share the same fundamental hypotheses: computation is a useful way to model intelligent behavior in machines.',\n",
       " 'what kind of computation and how to program it?',\n",
       " 'this is not the right question.',\n",
       " 'computation neither rules out search, logical, and probabilistic techniques, nor (deep) (un)supervised and reinforcement learning methods, among others, as computational models do include all of them.',\n",
       " 'they complement each other, and the next breakthrough lies not only in pushing each of them but also in combining them.big data is no fad.',\n",
       " 'the world is growing at an exponential rate and so is the size of the data collected across the globe.',\n",
       " 'data is becoming more meaningful and contextually relevant, breaking new grounds for machine learning (ml), in particular for deep learning (dl) and artificial intelligence (ai), moving them out of research labs into production (jordan and mitchell, 2015).',\n",
       " 'the problem has shifted from collecting massive amounts of data to understanding it—turning it into knowledge, conclusions, and actions.',\n",
       " 'multiple research disciplines, from cognitive sciences to biology, finance, physics, and social sciences, as well as many companies believe that data-driven and “intelligent” solutions are necessary to solve many of their key problems.',\n",
       " 'high-throughput genomic and proteomic experiments can be used to enable personalized medicine.',\n",
       " 'large data sets of search queries can be used to improve information retrieval.',\n",
       " 'historical climate data can be used to understand global warming and to better predict weather.',\n",
       " 'large amounts of sensor readings and hyperspectral images of plants can be used to identify drought conditions and to gain insights into when and how stress impacts plant growth and development and in turn how to counterattack the problem of world hunger.',\n",
       " 'game data can turn pixels into actions within video games, while observational data can help enable robots to understand complex and unstructured environments and to learn manipulation skills.however, is ai, ml, and dl really synonymous, as recently suggested in the news, blogs, and media?',\n",
       " 'for example, when alphago (silver et al., 2016) defeated south korean master lee se-dol in the board game go in 2016, the terms ai, ml, and dl were used by the media to describe how alphago won.',\n",
       " \"in addition to this, even gartner's list (panetta, 2017) of top 10 strategic trends for 2018 places (narrow) ai at the very top, specifying it as “consisting of highly scoped machine-learning solutions that target a specific task.”\"]"
      ]
     },
     "execution_count": 5,
     "metadata": {},
     "output_type": "execute_result"
    }
   ],
   "source": [
    "# split into sentence list\n",
    "sentence_list = nltk.sent_tokenize(article_text)\n",
    "sentence_list"
   ]
  },
  {
   "cell_type": "code",
   "execution_count": 6,
   "id": "cfa1ebd1",
   "metadata": {},
   "outputs": [
    {
     "name": "stderr",
     "output_type": "stream",
     "text": [
      "[nltk_data] Downloading package stopwords to\n",
      "[nltk_data]     C:\\Users\\Gjay3\\AppData\\Roaming\\nltk_data...\n",
      "[nltk_data]   Package stopwords is already up-to-date!\n"
     ]
    },
    {
     "data": {
      "text/plain": [
       "True"
      ]
     },
     "execution_count": 6,
     "metadata": {},
     "output_type": "execute_result"
    }
   ],
   "source": [
    "import nltk\n",
    "nltk.download('stopwords')"
   ]
  },
  {
   "cell_type": "markdown",
   "id": "ba1343c7",
   "metadata": {},
   "source": [
    "## Word Frequencies"
   ]
  },
  {
   "cell_type": "code",
   "execution_count": 7,
   "id": "68324955",
   "metadata": {},
   "outputs": [],
   "source": [
    "stopwords = nltk.corpus.stopwords.words('english')\n",
    "\n",
    "word_frequencies = {}\n",
    "for word in nltk.word_tokenize(clean_text):\n",
    "    if word not in stopwords:\n",
    "        if word not in word_frequencies:\n",
    "            word_frequencies[word] = 1\n",
    "        else:\n",
    "            word_frequencies[word] += 1"
   ]
  },
  {
   "cell_type": "code",
   "execution_count": 8,
   "id": "b6f7c1c3",
   "metadata": {},
   "outputs": [],
   "source": [
    "maximum_frequency = max(word_frequencies.values())\n",
    "\n",
    "for word in word_frequencies:\n",
    "    word_frequencies[word] = word_frequencies[word] / maximum_frequency"
   ]
  },
  {
   "cell_type": "markdown",
   "id": "440748fa",
   "metadata": {},
   "source": [
    "## Calculate Sentence Scores"
   ]
  },
  {
   "cell_type": "code",
   "execution_count": 9,
   "id": "0cbdd1f3",
   "metadata": {},
   "outputs": [],
   "source": [
    "sentence_scores = {}\n",
    "\n",
    "for sentence in sentence_list:\n",
    "    for word in nltk.word_tokenize(sentence):\n",
    "        if word in word_frequencies and len(sentence.split(' ')) < 30:\n",
    "            if sentence not in sentence_scores:\n",
    "                sentence_scores[sentence] = word_frequencies[word]\n",
    "            else:\n",
    "                sentence_scores[sentence] += word_frequencies[word]"
   ]
  },
  {
   "cell_type": "code",
   "execution_count": 10,
   "id": "286c8bca",
   "metadata": {},
   "outputs": [
    {
     "data": {
      "text/plain": [
       "{'machine': 0.3333333333333333,\n",
       " 'learning': 0.6666666666666666,\n",
       " 'ml': 0.5555555555555556,\n",
       " 'artificial': 0.2222222222222222,\n",
       " 'intelligence': 0.2222222222222222,\n",
       " 'ai': 0.6666666666666666,\n",
       " 'becoming': 0.2222222222222222,\n",
       " 'dominant': 0.1111111111111111,\n",
       " 'problem': 0.3333333333333333,\n",
       " 'solving': 0.1111111111111111,\n",
       " 'techniques': 0.2222222222222222,\n",
       " 'many': 0.3333333333333333,\n",
       " 'areas': 0.1111111111111111,\n",
       " 'research': 0.3333333333333333,\n",
       " 'industry': 0.1111111111111111,\n",
       " 'least': 0.1111111111111111,\n",
       " 'recent': 0.1111111111111111,\n",
       " 'successes': 0.1111111111111111,\n",
       " 'deep': 0.3333333333333333,\n",
       " 'dl': 0.5555555555555556,\n",
       " 'however': 0.2222222222222222,\n",
       " 'equation': 0.1111111111111111,\n",
       " 'recently': 0.2222222222222222,\n",
       " 'suggested': 0.2222222222222222,\n",
       " 'news': 0.2222222222222222,\n",
       " 'blogs': 0.2222222222222222,\n",
       " 'media': 0.3333333333333333,\n",
       " 'falls': 0.1111111111111111,\n",
       " 'short': 0.1111111111111111,\n",
       " 'fields': 0.1111111111111111,\n",
       " 'share': 0.1111111111111111,\n",
       " 'fundamental': 0.1111111111111111,\n",
       " 'hypotheses': 0.1111111111111111,\n",
       " 'computation': 0.3333333333333333,\n",
       " 'useful': 0.1111111111111111,\n",
       " 'way': 0.1111111111111111,\n",
       " 'model': 0.1111111111111111,\n",
       " 'intelligent': 0.2222222222222222,\n",
       " 'behavior': 0.1111111111111111,\n",
       " 'machines': 0.1111111111111111,\n",
       " 'kind': 0.1111111111111111,\n",
       " 'program': 0.1111111111111111,\n",
       " 'right': 0.1111111111111111,\n",
       " 'question': 0.1111111111111111,\n",
       " 'neither': 0.1111111111111111,\n",
       " 'rules': 0.1111111111111111,\n",
       " 'search': 0.2222222222222222,\n",
       " 'logical': 0.1111111111111111,\n",
       " 'probabilistic': 0.1111111111111111,\n",
       " 'un': 0.1111111111111111,\n",
       " 'supervised': 0.1111111111111111,\n",
       " 'reinforcement': 0.1111111111111111,\n",
       " 'methods': 0.1111111111111111,\n",
       " 'among': 0.1111111111111111,\n",
       " 'others': 0.1111111111111111,\n",
       " 'computational': 0.1111111111111111,\n",
       " 'models': 0.1111111111111111,\n",
       " 'include': 0.1111111111111111,\n",
       " 'complement': 0.1111111111111111,\n",
       " 'next': 0.1111111111111111,\n",
       " 'breakthrough': 0.1111111111111111,\n",
       " 'lies': 0.1111111111111111,\n",
       " 'pushing': 0.1111111111111111,\n",
       " 'also': 0.1111111111111111,\n",
       " 'combining': 0.1111111111111111,\n",
       " 'big': 0.1111111111111111,\n",
       " 'data': 1.0,\n",
       " 'fad': 0.1111111111111111,\n",
       " 'world': 0.2222222222222222,\n",
       " 'growing': 0.1111111111111111,\n",
       " 'exponential': 0.1111111111111111,\n",
       " 'rate': 0.1111111111111111,\n",
       " 'size': 0.1111111111111111,\n",
       " 'collected': 0.1111111111111111,\n",
       " 'across': 0.1111111111111111,\n",
       " 'globe': 0.1111111111111111,\n",
       " 'meaningful': 0.1111111111111111,\n",
       " 'contextually': 0.1111111111111111,\n",
       " 'relevant': 0.1111111111111111,\n",
       " 'breaking': 0.1111111111111111,\n",
       " 'new': 0.1111111111111111,\n",
       " 'grounds': 0.1111111111111111,\n",
       " 'particular': 0.1111111111111111,\n",
       " 'moving': 0.1111111111111111,\n",
       " 'labs': 0.1111111111111111,\n",
       " 'production': 0.1111111111111111,\n",
       " 'jordan': 0.1111111111111111,\n",
       " 'mitchell': 0.1111111111111111,\n",
       " 'shifted': 0.1111111111111111,\n",
       " 'collecting': 0.1111111111111111,\n",
       " 'massive': 0.1111111111111111,\n",
       " 'amounts': 0.2222222222222222,\n",
       " 'understanding': 0.1111111111111111,\n",
       " 'turning': 0.1111111111111111,\n",
       " 'knowledge': 0.1111111111111111,\n",
       " 'conclusions': 0.1111111111111111,\n",
       " 'actions': 0.2222222222222222,\n",
       " 'multiple': 0.1111111111111111,\n",
       " 'disciplines': 0.1111111111111111,\n",
       " 'cognitive': 0.1111111111111111,\n",
       " 'sciences': 0.2222222222222222,\n",
       " 'biology': 0.1111111111111111,\n",
       " 'finance': 0.1111111111111111,\n",
       " 'physics': 0.1111111111111111,\n",
       " 'social': 0.1111111111111111,\n",
       " 'well': 0.1111111111111111,\n",
       " 'companies': 0.1111111111111111,\n",
       " 'believe': 0.1111111111111111,\n",
       " 'driven': 0.1111111111111111,\n",
       " 'solutions': 0.2222222222222222,\n",
       " 'necessary': 0.1111111111111111,\n",
       " 'solve': 0.1111111111111111,\n",
       " 'key': 0.1111111111111111,\n",
       " 'problems': 0.1111111111111111,\n",
       " 'high': 0.1111111111111111,\n",
       " 'throughput': 0.1111111111111111,\n",
       " 'genomic': 0.1111111111111111,\n",
       " 'proteomic': 0.1111111111111111,\n",
       " 'experiments': 0.1111111111111111,\n",
       " 'used': 0.5555555555555556,\n",
       " 'enable': 0.2222222222222222,\n",
       " 'personalized': 0.1111111111111111,\n",
       " 'medicine': 0.1111111111111111,\n",
       " 'large': 0.2222222222222222,\n",
       " 'sets': 0.1111111111111111,\n",
       " 'queries': 0.1111111111111111,\n",
       " 'improve': 0.1111111111111111,\n",
       " 'information': 0.1111111111111111,\n",
       " 'retrieval': 0.1111111111111111,\n",
       " 'historical': 0.1111111111111111,\n",
       " 'climate': 0.1111111111111111,\n",
       " 'understand': 0.2222222222222222,\n",
       " 'global': 0.1111111111111111,\n",
       " 'warming': 0.1111111111111111,\n",
       " 'better': 0.1111111111111111,\n",
       " 'predict': 0.1111111111111111,\n",
       " 'weather': 0.1111111111111111,\n",
       " 'sensor': 0.1111111111111111,\n",
       " 'readings': 0.1111111111111111,\n",
       " 'hyperspectral': 0.1111111111111111,\n",
       " 'images': 0.1111111111111111,\n",
       " 'plants': 0.1111111111111111,\n",
       " 'identify': 0.1111111111111111,\n",
       " 'drought': 0.1111111111111111,\n",
       " 'conditions': 0.1111111111111111,\n",
       " 'gain': 0.1111111111111111,\n",
       " 'insights': 0.1111111111111111,\n",
       " 'stress': 0.1111111111111111,\n",
       " 'impacts': 0.1111111111111111,\n",
       " 'plant': 0.1111111111111111,\n",
       " 'growth': 0.1111111111111111,\n",
       " 'development': 0.1111111111111111,\n",
       " 'turn': 0.2222222222222222,\n",
       " 'counterattack': 0.1111111111111111,\n",
       " 'hunger': 0.1111111111111111,\n",
       " 'game': 0.2222222222222222,\n",
       " 'pixels': 0.1111111111111111,\n",
       " 'within': 0.1111111111111111,\n",
       " 'video': 0.1111111111111111,\n",
       " 'games': 0.1111111111111111,\n",
       " 'observational': 0.1111111111111111,\n",
       " 'help': 0.1111111111111111,\n",
       " 'robots': 0.1111111111111111,\n",
       " 'complex': 0.1111111111111111,\n",
       " 'unstructured': 0.1111111111111111,\n",
       " 'environments': 0.1111111111111111,\n",
       " 'learn': 0.1111111111111111,\n",
       " 'manipulation': 0.1111111111111111,\n",
       " 'skills': 0.1111111111111111,\n",
       " 'really': 0.1111111111111111,\n",
       " 'synonymous': 0.1111111111111111,\n",
       " 'example': 0.1111111111111111,\n",
       " 'alphago': 0.2222222222222222,\n",
       " 'silver': 0.1111111111111111,\n",
       " 'et': 0.1111111111111111,\n",
       " 'al': 0.1111111111111111,\n",
       " 'defeated': 0.1111111111111111,\n",
       " 'south': 0.1111111111111111,\n",
       " 'korean': 0.1111111111111111,\n",
       " 'master': 0.1111111111111111,\n",
       " 'lee': 0.1111111111111111,\n",
       " 'se': 0.1111111111111111,\n",
       " 'dol': 0.1111111111111111,\n",
       " 'board': 0.1111111111111111,\n",
       " 'go': 0.1111111111111111,\n",
       " 'terms': 0.1111111111111111,\n",
       " 'describe': 0.1111111111111111,\n",
       " 'addition': 0.1111111111111111,\n",
       " 'even': 0.1111111111111111,\n",
       " 'gartner': 0.1111111111111111,\n",
       " 'list': 0.1111111111111111,\n",
       " 'panetta': 0.1111111111111111,\n",
       " 'top': 0.2222222222222222,\n",
       " 'strategic': 0.1111111111111111,\n",
       " 'trends': 0.1111111111111111,\n",
       " 'places': 0.1111111111111111,\n",
       " 'narrow': 0.1111111111111111,\n",
       " 'specifying': 0.1111111111111111,\n",
       " 'consisting': 0.1111111111111111,\n",
       " 'highly': 0.1111111111111111,\n",
       " 'scoped': 0.1111111111111111,\n",
       " 'target': 0.1111111111111111,\n",
       " 'specific': 0.1111111111111111,\n",
       " 'task': 0.1111111111111111}"
      ]
     },
     "execution_count": 10,
     "metadata": {},
     "output_type": "execute_result"
    }
   ],
   "source": [
    "word_frequencies"
   ]
  },
  {
   "cell_type": "code",
   "execution_count": 11,
   "id": "d9cc2a09",
   "metadata": {},
   "outputs": [
    {
     "data": {
      "text/plain": [
       "{'however, the equation ai=ml=dl, as recently suggested in the news, blogs, and media, falls too short.': 1.777777777777778,\n",
       " 'these fields share the same fundamental hypotheses: computation is a useful way to model intelligent behavior in machines.': 1.5555555555555558,\n",
       " 'what kind of computation and how to program it?': 0.5555555555555556,\n",
       " 'this is not the right question.': 0.2222222222222222,\n",
       " 'computation neither rules out search, logical, and probabilistic techniques, nor (deep) (un)supervised and reinforcement learning methods, among others, as computational models do include all of them.': 3.2222222222222228,\n",
       " 'they complement each other, and the next breakthrough lies not only in pushing each of them but also in combining them.big data is no fad.': 1.888888888888889,\n",
       " 'the world is growing at an exponential rate and so is the size of the data collected across the globe.': 2.0,\n",
       " 'the problem has shifted from collecting massive amounts of data to understanding it—turning it into knowledge, conclusions, and actions.': 2.4444444444444446,\n",
       " 'high-throughput genomic and proteomic experiments can be used to enable personalized medicine.': 1.3333333333333335,\n",
       " 'large data sets of search queries can be used to improve information retrieval.': 2.555555555555556,\n",
       " 'historical climate data can be used to understand global warming and to better predict weather.': 2.555555555555556}"
      ]
     },
     "execution_count": 11,
     "metadata": {},
     "output_type": "execute_result"
    }
   ],
   "source": [
    "sentence_scores"
   ]
  },
  {
   "cell_type": "markdown",
   "id": "b55f87ec",
   "metadata": {},
   "source": [
    "## Text Summarization"
   ]
  },
  {
   "cell_type": "code",
   "execution_count": 12,
   "id": "7db1d554",
   "metadata": {},
   "outputs": [
    {
     "name": "stdout",
     "output_type": "stream",
     "text": [
      "computation neither rules out search, logical, and probabilistic techniques, nor (deep) (un)supervised and reinforcement learning methods, among others, as computational models do include all of them. large data sets of search queries can be used to improve information retrieval. historical climate data can be used to understand global warming and to better predict weather. the problem has shifted from collecting massive amounts of data to understanding it—turning it into knowledge, conclusions, and actions. the world is growing at an exponential rate and so is the size of the data collected across the globe.\n"
     ]
    }
   ],
   "source": [
    "# get top 5 sentences\n",
    "import heapq\n",
    "summary = heapq.nlargest(5, sentence_scores, key=sentence_scores.get)\n",
    "\n",
    "print(\" \".join(summary))"
   ]
  },
  {
   "cell_type": "code",
   "execution_count": null,
   "id": "22f54712",
   "metadata": {},
   "outputs": [],
   "source": []
  }
 ],
 "metadata": {
  "kernelspec": {
   "display_name": "Python 3",
   "language": "python",
   "name": "python3"
  },
  "language_info": {
   "codemirror_mode": {
    "name": "ipython",
    "version": 3
   },
   "file_extension": ".py",
   "mimetype": "text/x-python",
   "name": "python",
   "nbconvert_exporter": "python",
   "pygments_lexer": "ipython3",
   "version": "3.8.8"
  }
 },
 "nbformat": 4,
 "nbformat_minor": 5
}
